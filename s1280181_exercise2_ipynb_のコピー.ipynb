{
  "cells": [
    {
      "cell_type": "markdown",
      "metadata": {
        "id": "view-in-github",
        "colab_type": "text"
      },
      "source": [
        "<a href=\"https://colab.research.google.com/github/RiRibeL/googleColab/blob/main/s1280181_exercise2_ipynb_%E3%81%AE%E3%82%B3%E3%83%94%E3%83%BC.ipynb\" target=\"_parent\"><img src=\"https://colab.research.google.com/assets/colab-badge.svg\" alt=\"Open In Colab\"/></a>"
      ]
    },
    {
      "cell_type": "markdown",
      "id": "4ca4f6dc-6395-4b15-9a20-ac852978410f",
      "metadata": {
        "id": "4ca4f6dc-6395-4b15-9a20-ac852978410f"
      },
      "source": [
        "# 1. Putting Headlinks"
      ]
    },
    {
      "cell_type": "markdown",
      "id": "7ec6b348-dbd6-4271-bb42-66430d705ea6",
      "metadata": {
        "id": "7ec6b348-dbd6-4271-bb42-66430d705ea6"
      },
      "source": [
        "# Heading level 1\n",
        "## Heading level 2\n",
        "### Heading level 3\n",
        "#### Heading level 4\n",
        "##### Heading level 5\n",
        "###### Heading level 6"
      ]
    },
    {
      "cell_type": "markdown",
      "id": "c04c5d5c-91fc-41ca-8cd1-4e675e69e079",
      "metadata": {
        "id": "c04c5d5c-91fc-41ca-8cd1-4e675e69e079"
      },
      "source": [
        "# 2.Writing Bold letters"
      ]
    },
    {
      "cell_type": "markdown",
      "id": "1e0ffdfa-534b-443c-9deb-47a6bf077459",
      "metadata": {
        "id": "1e0ffdfa-534b-443c-9deb-47a6bf077459"
      },
      "source": [
        "## __two underscores before and after the text__"
      ]
    },
    {
      "cell_type": "markdown",
      "id": "b4290f8f-e550-4136-ad6d-9fba83c120ea",
      "metadata": {
        "tags": [],
        "id": "b4290f8f-e550-4136-ad6d-9fba83c120ea"
      },
      "source": [
        "# 3.Writing Italic letters\n",
        "### _single underscore before and after the text_"
      ]
    },
    {
      "cell_type": "markdown",
      "id": "cb04d39b-84c9-491a-9d7a-2cd7e0d3c7bf",
      "metadata": {
        "tags": [],
        "id": "cb04d39b-84c9-491a-9d7a-2cd7e0d3c7bf"
      },
      "source": [
        "# 4.Dotted Points\n",
        "# - Dash before text\n",
        "# - will print the text\n",
        "# - with numbered point"
      ]
    },
    {
      "cell_type": "markdown",
      "id": "0c26858c-46a1-4b7c-b440-21b65fc6eb16",
      "metadata": {
        "tags": [],
        "id": "0c26858c-46a1-4b7c-b440-21b65fc6eb16"
      },
      "source": [
        "# 5.Numbered points"
      ]
    },
    {
      "cell_type": "markdown",
      "id": "f96e8a53-fa5e-4aac-b472-cdc2b3c4b1fe",
      "metadata": {
        "id": "f96e8a53-fa5e-4aac-b472-cdc2b3c4b1fe"
      },
      "source": [
        "# 1. sample\n",
        "# 2. text\n",
        "# 3. test"
      ]
    },
    {
      "cell_type": "markdown",
      "id": "d260f4e4-95a5-4e38-b9db-e75d65244efd",
      "metadata": {
        "id": "d260f4e4-95a5-4e38-b9db-e75d65244efd"
      },
      "source": [
        "# 6.Creating tables"
      ]
    },
    {
      "cell_type": "markdown",
      "id": "57eb3f16-6c41-4525-8408-fa37524fe32a",
      "metadata": {
        "id": "57eb3f16-6c41-4525-8408-fa37524fe32a"
      },
      "source": [
        "# | Heading 1   | Heading 2   |\n",
        "# | ----------- | ----------- |\n",
        "# | 1      | xx      |\n",
        "# | 2      | yy   |"
      ]
    },
    {
      "cell_type": "markdown",
      "id": "ea6b1a5f-e0c1-4c0c-8821-360914e83243",
      "metadata": {
        "id": "ea6b1a5f-e0c1-4c0c-8821-360914e83243"
      },
      "source": [
        "# 7.Images"
      ]
    },
    {
      "cell_type": "markdown",
      "id": "8e786339-9647-420a-9768-bd7cfc69c874",
      "metadata": {
        "tags": [],
        "id": "8e786339-9647-420a-9768-bd7cfc69c874"
      },
      "source": [
        "# ![Apple](./apple_image.jpg)"
      ]
    },
    {
      "cell_type": "markdown",
      "id": "37358429-55b2-4425-af21-861e215cae2f",
      "metadata": {
        "id": "37358429-55b2-4425-af21-861e215cae2f"
      },
      "source": [
        "# 8.Underscore text\n",
        "# <u>Underscore text </u>\n"
      ]
    },
    {
      "cell_type": "markdown",
      "id": "1d5e19cc-be62-427b-b1fd-3e7b52fadc70",
      "metadata": {
        "tags": [],
        "id": "1d5e19cc-be62-427b-b1fd-3e7b52fadc70"
      },
      "source": [
        "# 9. Horizontal line\n",
        "# \\_____"
      ]
    },
    {
      "cell_type": "markdown",
      "id": "38e435d7-decd-4369-9ed4-6ad295ca9bef",
      "metadata": {
        "id": "38e435d7-decd-4369-9ed4-6ad295ca9bef"
      },
      "source": [
        "## .Topic2:Basic Python Programming"
      ]
    },
    {
      "cell_type": "markdown",
      "id": "12fd094d-e7b5-4253-9fa8-d259560c6b07",
      "metadata": {
        "id": "12fd094d-e7b5-4253-9fa8-d259560c6b07"
      },
      "source": [
        "# Step1: Hello World!\n"
      ]
    },
    {
      "cell_type": "code",
      "execution_count": null,
      "id": "94537655-8b4c-46b9-a850-e6a721b806bd",
      "metadata": {
        "tags": [],
        "id": "94537655-8b4c-46b9-a850-e6a721b806bd",
        "outputId": "bcbfe22b-1bd9-42cc-9a75-afe82e8cb7ef"
      },
      "outputs": [
        {
          "name": "stdout",
          "output_type": "stream",
          "text": [
            "Hello world!\n"
          ]
        }
      ],
      "source": [
        "print(\"Hello world!\")"
      ]
    },
    {
      "cell_type": "markdown",
      "id": "39122bf2-84f6-48be-8006-ae2a1ea73ac9",
      "metadata": {
        "id": "39122bf2-84f6-48be-8006-ae2a1ea73ac9"
      },
      "source": [
        "# Step2: Create numeric value"
      ]
    },
    {
      "cell_type": "code",
      "execution_count": null,
      "id": "aefbbab0-9edd-40f6-afbb-ff721c9eaf5a",
      "metadata": {
        "tags": [],
        "id": "aefbbab0-9edd-40f6-afbb-ff721c9eaf5a"
      },
      "outputs": [],
      "source": [
        "a = 10"
      ]
    },
    {
      "cell_type": "markdown",
      "id": "a2a93fd5-ebac-43a7-ac60-ed0fab42919b",
      "metadata": {
        "id": "a2a93fd5-ebac-43a7-ac60-ed0fab42919b"
      },
      "source": [
        "# step3: Print above created valueable"
      ]
    },
    {
      "cell_type": "code",
      "execution_count": null,
      "id": "c87b5032-becb-4c18-ae69-09d3afa6b409",
      "metadata": {
        "tags": [],
        "id": "c87b5032-becb-4c18-ae69-09d3afa6b409",
        "outputId": "52640314-f109-4411-f3bd-ace7b46755fe"
      },
      "outputs": [
        {
          "name": "stdout",
          "output_type": "stream",
          "text": [
            "10\n"
          ]
        }
      ],
      "source": [
        "print(a)"
      ]
    },
    {
      "cell_type": "markdown",
      "id": "96a236d4-5966-4c9b-b815-67d2741f4a87",
      "metadata": {
        "id": "96a236d4-5966-4c9b-b815-67d2741f4a87"
      },
      "source": [
        "# step4 print the type of above variable"
      ]
    },
    {
      "cell_type": "code",
      "execution_count": null,
      "id": "633beecd-e935-40a1-97ec-92571c85ff51",
      "metadata": {
        "tags": [],
        "id": "633beecd-e935-40a1-97ec-92571c85ff51",
        "outputId": "fd387795-e444-4978-9ed3-03b9dbc180d9"
      },
      "outputs": [
        {
          "name": "stdout",
          "output_type": "stream",
          "text": [
            "<class 'int'>\n"
          ]
        }
      ],
      "source": [
        "print(type(a))"
      ]
    },
    {
      "cell_type": "markdown",
      "id": "672734bd-5bd3-4f63-adf0-dcccc86eec53",
      "metadata": {
        "id": "672734bd-5bd3-4f63-adf0-dcccc86eec53"
      },
      "source": [
        "# step5 create String value and print"
      ]
    },
    {
      "cell_type": "code",
      "execution_count": null,
      "id": "5c292cba-487f-4f3d-9c25-412e63101c02",
      "metadata": {
        "tags": [],
        "id": "5c292cba-487f-4f3d-9c25-412e63101c02"
      },
      "outputs": [],
      "source": [
        "str = \"Hello \""
      ]
    },
    {
      "cell_type": "code",
      "execution_count": null,
      "id": "81f5880a-c083-41df-a3c0-2406ff5b1f61",
      "metadata": {
        "tags": [],
        "id": "81f5880a-c083-41df-a3c0-2406ff5b1f61",
        "outputId": "f0a698d4-7c5d-405b-c2fb-e756212e1eee"
      },
      "outputs": [
        {
          "name": "stdout",
          "output_type": "stream",
          "text": [
            "hello\n"
          ]
        }
      ],
      "source": [
        "print(str)"
      ]
    },
    {
      "cell_type": "markdown",
      "id": "ca37916d-b51d-428b-a96a-e406131f688c",
      "metadata": {
        "id": "ca37916d-b51d-428b-a96a-e406131f688c"
      },
      "source": [
        "# step5.1 Access the 2nd element of the string"
      ]
    },
    {
      "cell_type": "code",
      "execution_count": null,
      "id": "206ee076-4188-4856-8254-f61339cbeb03",
      "metadata": {
        "tags": [],
        "id": "206ee076-4188-4856-8254-f61339cbeb03",
        "outputId": "60b32dc1-f8af-4d39-9e8c-2bb1d49f541f"
      },
      "outputs": [
        {
          "name": "stdout",
          "output_type": "stream",
          "text": [
            "e\n"
          ]
        }
      ],
      "source": [
        "print(str[1])"
      ]
    },
    {
      "cell_type": "markdown",
      "id": "76f31552-ba59-4f89-ac5b-de363a70d4a6",
      "metadata": {
        "id": "76f31552-ba59-4f89-ac5b-de363a70d4a6"
      },
      "source": [
        "# Step5 5.2 Get the length of above String"
      ]
    },
    {
      "cell_type": "code",
      "execution_count": null,
      "id": "3eed65b1-5bde-4db4-b9a8-d693c779d1b7",
      "metadata": {
        "tags": [],
        "id": "3eed65b1-5bde-4db4-b9a8-d693c779d1b7",
        "outputId": "626ab02a-2891-4275-8efb-c2d597f99ee9"
      },
      "outputs": [
        {
          "name": "stdout",
          "output_type": "stream",
          "text": [
            "5\n"
          ]
        }
      ],
      "source": [
        "print(len(str))"
      ]
    },
    {
      "cell_type": "markdown",
      "id": "2a49117e-6b18-45f1-a425-dfcdae4f731d",
      "metadata": {
        "id": "2a49117e-6b18-45f1-a425-dfcdae4f731d"
      },
      "source": [
        "# Step5.3 Create another string and compare to Above string"
      ]
    },
    {
      "cell_type": "code",
      "execution_count": null,
      "id": "b01eebe2-700a-4a0f-821e-c7e13192e488",
      "metadata": {
        "tags": [],
        "id": "b01eebe2-700a-4a0f-821e-c7e13192e488",
        "outputId": "1cf89307-4602-4822-a4f7-ce09dd375bf1"
      },
      "outputs": [
        {
          "name": "stdout",
          "output_type": "stream",
          "text": [
            "Strings are not same each other.\n"
          ]
        }
      ],
      "source": [
        "str2 = \"world\"\n",
        "if str2 == str:\n",
        "    print(\"Strings are same each other.\")\n",
        "else:\n",
        "    print(\"Strings are not same each other.\")\n"
      ]
    },
    {
      "cell_type": "markdown",
      "id": "8b0ab69c-10d4-4f6b-a111-0a05288bede8",
      "metadata": {
        "id": "8b0ab69c-10d4-4f6b-a111-0a05288bede8"
      },
      "source": [
        "# Step 5.4 execute the concataion of the String"
      ]
    },
    {
      "cell_type": "code",
      "execution_count": null,
      "id": "fd904712-0658-40ae-bb60-20f3571de4f2",
      "metadata": {
        "tags": [],
        "id": "fd904712-0658-40ae-bb60-20f3571de4f2",
        "outputId": "2bab498c-b584-4db4-c954-642747de227f"
      },
      "outputs": [
        {
          "name": "stdout",
          "output_type": "stream",
          "text": [
            "Hello world\n"
          ]
        }
      ],
      "source": [
        "str3 = str + str2\n",
        "print(str3)"
      ]
    },
    {
      "cell_type": "code",
      "execution_count": null,
      "id": "e274e575-89a2-4123-b6a1-80e39c328d17",
      "metadata": {
        "id": "e274e575-89a2-4123-b6a1-80e39c328d17"
      },
      "outputs": [],
      "source": []
    },
    {
      "cell_type": "markdown",
      "id": "722d0d47-203c-4194-9da7-cd450229f8df",
      "metadata": {
        "id": "722d0d47-203c-4194-9da7-cd450229f8df"
      },
      "source": [
        "# step 6 create a list"
      ]
    },
    {
      "cell_type": "code",
      "execution_count": null,
      "id": "7881cfd0-b609-41ca-b8b2-83ec1a9c62c9",
      "metadata": {
        "tags": [],
        "id": "7881cfd0-b609-41ca-b8b2-83ec1a9c62c9"
      },
      "outputs": [],
      "source": [
        "sampleList = [3, 5, 6, 18, 10]"
      ]
    },
    {
      "cell_type": "markdown",
      "id": "06844d87-4e3c-4739-ac0b-8a2d5f7dfc2e",
      "metadata": {
        "id": "06844d87-4e3c-4739-ac0b-8a2d5f7dfc2e"
      },
      "source": [
        "# step6.1 print the length of the list"
      ]
    },
    {
      "cell_type": "code",
      "execution_count": null,
      "id": "32aae327-b661-479c-94ca-1bfbe215d8a3",
      "metadata": {
        "tags": [],
        "id": "32aae327-b661-479c-94ca-1bfbe215d8a3",
        "outputId": "7d7cb01c-7b0f-42bc-8973-ebfeed4bb24f"
      },
      "outputs": [
        {
          "name": "stdout",
          "output_type": "stream",
          "text": [
            "5\n"
          ]
        }
      ],
      "source": [
        "print(len(sampleList))"
      ]
    },
    {
      "cell_type": "markdown",
      "id": "cd949e44-c019-4f0e-9160-4358dee787bc",
      "metadata": {
        "id": "cd949e44-c019-4f0e-9160-4358dee787bc"
      },
      "source": [
        "# step 6.2 print the element of the List using for iterate"
      ]
    },
    {
      "cell_type": "code",
      "execution_count": null,
      "id": "71428f6c-f253-405e-b04b-6bea53688347",
      "metadata": {
        "tags": [],
        "id": "71428f6c-f253-405e-b04b-6bea53688347",
        "outputId": "3d297b0a-80f5-4779-e660-9188a0f7cdd2"
      },
      "outputs": [
        {
          "name": "stdout",
          "output_type": "stream",
          "text": [
            "3\n",
            "5\n",
            "6\n",
            "18\n",
            "10\n"
          ]
        }
      ],
      "source": [
        "for index in sampleList:\n",
        "    print(index)"
      ]
    },
    {
      "cell_type": "markdown",
      "id": "241a9c12-efd1-4158-8761-63763dd7b0a6",
      "metadata": {
        "id": "241a9c12-efd1-4158-8761-63763dd7b0a6"
      },
      "source": [
        "# step6.3 Add another element to sampleList"
      ]
    },
    {
      "cell_type": "code",
      "execution_count": null,
      "id": "16357135-40d6-4712-9e14-bf7e11ef49ae",
      "metadata": {
        "tags": [],
        "id": "16357135-40d6-4712-9e14-bf7e11ef49ae"
      },
      "outputs": [],
      "source": [
        "sampleList.append(22)"
      ]
    },
    {
      "cell_type": "markdown",
      "id": "be10f71a-82d3-466b-a18f-f67c0b1d0165",
      "metadata": {
        "id": "be10f71a-82d3-466b-a18f-f67c0b1d0165"
      },
      "source": [
        "# step 6.4 remove the one of the above element"
      ]
    },
    {
      "cell_type": "code",
      "execution_count": null,
      "id": "2443e0bd-328f-464b-b64b-30753085e2fb",
      "metadata": {
        "tags": [],
        "id": "2443e0bd-328f-464b-b64b-30753085e2fb"
      },
      "outputs": [],
      "source": [
        "sampleList.remove(3)"
      ]
    },
    {
      "cell_type": "markdown",
      "id": "4a0336c8-2816-462c-b827-9cb74b108ed2",
      "metadata": {
        "id": "4a0336c8-2816-462c-b827-9cb74b108ed2"
      },
      "source": [
        "# Find the maximum and minimum value of the above list"
      ]
    },
    {
      "cell_type": "code",
      "execution_count": null,
      "id": "f639603d-f9cc-497c-b1b7-39862840fe21",
      "metadata": {
        "tags": [],
        "id": "f639603d-f9cc-497c-b1b7-39862840fe21",
        "outputId": "f8b1b6b2-04ea-41bb-843c-6c5895d2c12b"
      },
      "outputs": [
        {
          "name": "stdout",
          "output_type": "stream",
          "text": [
            "5\n"
          ]
        }
      ],
      "source": [
        "print(min(sampleList))"
      ]
    },
    {
      "cell_type": "code",
      "execution_count": null,
      "id": "d423d834-81d8-42b0-8244-b56da8352585",
      "metadata": {
        "tags": [],
        "id": "d423d834-81d8-42b0-8244-b56da8352585",
        "outputId": "8a137aac-f209-41ca-fa0a-7a4e9cbc2fd6"
      },
      "outputs": [
        {
          "name": "stdout",
          "output_type": "stream",
          "text": [
            "22\n"
          ]
        }
      ],
      "source": [
        "print(max(sampleList))"
      ]
    },
    {
      "cell_type": "markdown",
      "id": "4a45d419-b88c-484f-a7c5-717fba056831",
      "metadata": {
        "tags": [],
        "id": "4a45d419-b88c-484f-a7c5-717fba056831"
      },
      "source": [
        "# step 7 Get input as a String from user"
      ]
    },
    {
      "cell_type": "code",
      "execution_count": null,
      "id": "b79521b1-0c6c-4be1-a362-4962f3d9a8e7",
      "metadata": {
        "tags": [],
        "id": "b79521b1-0c6c-4be1-a362-4962f3d9a8e7",
        "outputId": "d0a17441-a08e-4087-9a15-5d1a560dc973"
      },
      "outputs": [
        {
          "name": "stdin",
          "output_type": "stream",
          "text": [
            "Enter your name: Kengo KAKAZU\n"
          ]
        }
      ],
      "source": [
        "name = input (\"Enter your name:\")"
      ]
    },
    {
      "cell_type": "markdown",
      "id": "7ef8a461-b206-4fed-b3d1-4057ca960761",
      "metadata": {
        "id": "7ef8a461-b206-4fed-b3d1-4057ca960761"
      },
      "source": [
        "# Step 8 autput the String"
      ]
    },
    {
      "cell_type": "code",
      "execution_count": null,
      "id": "b36ffd22-940c-44b7-9efd-34438924aabd",
      "metadata": {
        "tags": [],
        "id": "b36ffd22-940c-44b7-9efd-34438924aabd",
        "outputId": "783a2318-8ab6-44b7-8a52-1c27c8fee126"
      },
      "outputs": [
        {
          "name": "stdout",
          "output_type": "stream",
          "text": [
            "Hello Kengo KAKAZU!\n"
          ]
        }
      ],
      "source": [
        "print(\"Hello \" + name + '!')"
      ]
    },
    {
      "cell_type": "markdown",
      "id": "5af67dd9-3c5b-4dde-9730-d170b38e4db0",
      "metadata": {
        "id": "5af67dd9-3c5b-4dde-9730-d170b38e4db0"
      },
      "source": [
        "# Step 9 Get the input as a int from user"
      ]
    },
    {
      "cell_type": "code",
      "execution_count": null,
      "id": "d24ae881-a62d-4efa-b452-e9b88d009b9e",
      "metadata": {
        "tags": [],
        "id": "d24ae881-a62d-4efa-b452-e9b88d009b9e",
        "outputId": "0fd7c3e6-afbe-49d1-b9a2-78d483a67ecd"
      },
      "outputs": [
        {
          "name": "stdin",
          "output_type": "stream",
          "text": [
            "Enter your numer 1280181\n"
          ]
        }
      ],
      "source": [
        "num =  int(input(\"Enter your numer\"))"
      ]
    },
    {
      "cell_type": "markdown",
      "id": "cd61aeee-becf-4d59-ab2e-e01f9a2477ed",
      "metadata": {
        "id": "cd61aeee-becf-4d59-ab2e-e01f9a2477ed"
      },
      "source": [
        "# Step 10 Display Input"
      ]
    },
    {
      "cell_type": "code",
      "execution_count": null,
      "id": "0789d715-0f2b-4ce9-9a1c-9664f0097a60",
      "metadata": {
        "tags": [],
        "id": "0789d715-0f2b-4ce9-9a1c-9664f0097a60",
        "outputId": "bbb33f69-adf4-42f0-80e8-8101e76041e5"
      },
      "outputs": [
        {
          "name": "stdout",
          "output_type": "stream",
          "text": [
            "1280181\n"
          ]
        }
      ],
      "source": [
        "print(num)"
      ]
    },
    {
      "cell_type": "markdown",
      "id": "0ffea983-3d04-4d58-9bb9-3ef78ec5837c",
      "metadata": {
        "id": "0ffea983-3d04-4d58-9bb9-3ef78ec5837c"
      },
      "source": [
        "# step 11 Different ways to print int and string"
      ]
    },
    {
      "cell_type": "code",
      "execution_count": null,
      "id": "5d1a41c7-93d6-4494-9a4c-9244840f9abe",
      "metadata": {
        "tags": [],
        "id": "5d1a41c7-93d6-4494-9a4c-9244840f9abe",
        "outputId": "71ec57e2-a6fa-44d7-f27a-5f7b3a32fafa"
      },
      "outputs": [
        {
          "name": "stdout",
          "output_type": "stream",
          "text": [
            "The total sum of a and b is 30\n",
            "The total sum of a and b is 30\n",
            "The total sum of a and b is 30\n"
          ]
        }
      ],
      "source": [
        "a = 10\n",
        "b = 20\n",
        "sum = a + b\n",
        "\n",
        "print(\"The total sum of a and b is {}\".format(sum))\n",
        "print(\"The total sum of a and b is %d\" %sum)\n",
        "print(\"The total sum of a and b is\",sum)\n"
      ]
    },
    {
      "cell_type": "markdown",
      "id": "ba7fb600-4547-4bfe-bca9-6dd5c4ee78b1",
      "metadata": {
        "id": "ba7fb600-4547-4bfe-bca9-6dd5c4ee78b1"
      },
      "source": [
        "# Step12 getting multiple input from users"
      ]
    },
    {
      "cell_type": "code",
      "execution_count": null,
      "id": "c0c04364-7675-4314-a60b-a083b7732b6c",
      "metadata": {
        "tags": [],
        "id": "c0c04364-7675-4314-a60b-a083b7732b6c",
        "outputId": "28c84cbc-c61a-4c07-f765-9bb868b6bfb1"
      },
      "outputs": [
        {
          "name": "stdin",
          "output_type": "stream",
          "text": [
            "Enter any three numbers :  1 2 3\n"
          ]
        }
      ],
      "source": [
        "a, b, c = input (\"Enter any three numbers : \").split()"
      ]
    },
    {
      "cell_type": "code",
      "execution_count": null,
      "id": "870d7bc2-4f30-4e7c-9e34-122deb3362f1",
      "metadata": {
        "tags": [],
        "id": "870d7bc2-4f30-4e7c-9e34-122deb3362f1",
        "outputId": "6be430f4-2627-4675-f826-cbafe38a283d"
      },
      "outputs": [
        {
          "name": "stdout",
          "output_type": "stream",
          "text": [
            "First number is  1\n",
            "Second number is  2\n",
            "Third number is  3\n"
          ]
        }
      ],
      "source": [
        "print(\"First number is \",a)\n",
        "print(\"Second number is \",b)\n",
        "print(\"Third number is \",c)"
      ]
    },
    {
      "cell_type": "markdown",
      "id": "218bb08c-faef-4810-98bd-93b9acb8ea03",
      "metadata": {
        "id": "218bb08c-faef-4810-98bd-93b9acb8ea03"
      },
      "source": [
        "# Step 13 Define the function using \"def\""
      ]
    },
    {
      "cell_type": "code",
      "execution_count": null,
      "id": "59ee2d91-ca79-4f81-8061-46e0d47796db",
      "metadata": {
        "tags": [],
        "id": "59ee2d91-ca79-4f81-8061-46e0d47796db"
      },
      "outputs": [],
      "source": [
        "def HelloWorld():\n",
        "    print(\"Hello world\")"
      ]
    },
    {
      "cell_type": "markdown",
      "id": "c1126b7b-1c6d-4037-b0cd-f58bef94ceee",
      "metadata": {
        "id": "c1126b7b-1c6d-4037-b0cd-f58bef94ceee"
      },
      "source": [
        "# Step14 execute the above function"
      ]
    },
    {
      "cell_type": "code",
      "execution_count": null,
      "id": "e3873b4e-0526-4d5d-8ed3-57f619671f6a",
      "metadata": {
        "tags": [],
        "id": "e3873b4e-0526-4d5d-8ed3-57f619671f6a",
        "outputId": "4c710eb9-8df5-4181-cd3f-77895ee100e9"
      },
      "outputs": [
        {
          "name": "stdout",
          "output_type": "stream",
          "text": [
            "Hello world\n"
          ]
        }
      ],
      "source": [
        "HelloWorld()"
      ]
    },
    {
      "cell_type": "markdown",
      "id": "1ec344f7-6dac-45de-b444-9c6c508eedd3",
      "metadata": {
        "id": "1ec344f7-6dac-45de-b444-9c6c508eedd3"
      },
      "source": [
        "## Topic3: Advanced python programming"
      ]
    },
    {
      "cell_type": "markdown",
      "id": "a723adeb-5d2a-4002-bb55-d923b60f6314",
      "metadata": {
        "id": "a723adeb-5d2a-4002-bb55-d923b60f6314"
      },
      "source": [
        "# 1.pip install command"
      ]
    },
    {
      "cell_type": "code",
      "execution_count": null,
      "id": "1b70dcb1-6733-4c15-a438-40f74b45782c",
      "metadata": {
        "tags": [],
        "id": "1b70dcb1-6733-4c15-a438-40f74b45782c",
        "outputId": "1c3733ad-6a32-4f07-ce28-faee052dd0cd"
      },
      "outputs": [
        {
          "name": "stdout",
          "output_type": "stream",
          "text": [
            "Defaulting to user installation because normal site-packages is not writeable\n",
            "Requirement already satisfied: pami in /home/student/s1280181/.local/lib/python3.10/site-packages (2023.9.1.1)\n",
            "Requirement already satisfied: pandas in /home/student/s1280181/.local/lib/python3.10/site-packages (from pami) (2.1.1)\n",
            "Requirement already satisfied: resource in /home/student/s1280181/.local/lib/python3.10/site-packages (from pami) (0.2.1)\n",
            "Requirement already satisfied: psutil in /home/student/s1280181/.local/lib/python3.10/site-packages (from pami) (5.9.5)\n",
            "Requirement already satisfied: numpy in /home/student/s1280181/.local/lib/python3.10/site-packages (from pami) (1.26.0)\n",
            "Requirement already satisfied: Pillow in /home/student/s1280181/.local/lib/python3.10/site-packages (from pami) (10.0.1)\n",
            "Requirement already satisfied: plotly in /home/student/s1280181/.local/lib/python3.10/site-packages (from pami) (5.17.0)\n",
            "Requirement already satisfied: validators in /home/student/s1280181/.local/lib/python3.10/site-packages (from pami) (0.22.0)\n",
            "Requirement already satisfied: urllib3 in /usr/lib/python3/dist-packages (from pami) (1.26.5)\n",
            "Requirement already satisfied: matplotlib in /home/student/s1280181/.local/lib/python3.10/site-packages (from pami) (3.8.0)\n",
            "Requirement already satisfied: contourpy>=1.0.1 in /home/student/s1280181/.local/lib/python3.10/site-packages (from matplotlib->pami) (1.1.1)\n",
            "Requirement already satisfied: kiwisolver>=1.0.1 in /home/student/s1280181/.local/lib/python3.10/site-packages (from matplotlib->pami) (1.4.5)\n",
            "Requirement already satisfied: python-dateutil>=2.7 in /home/student/s1280181/.local/lib/python3.10/site-packages (from matplotlib->pami) (2.8.2)\n",
            "Requirement already satisfied: cycler>=0.10 in /home/student/s1280181/.local/lib/python3.10/site-packages (from matplotlib->pami) (0.12.0)\n",
            "Requirement already satisfied: packaging>=20.0 in /home/student/s1280181/.local/lib/python3.10/site-packages (from matplotlib->pami) (23.2)\n",
            "Requirement already satisfied: pyparsing>=2.3.1 in /usr/lib/python3/dist-packages (from matplotlib->pami) (2.4.7)\n",
            "Requirement already satisfied: fonttools>=4.22.0 in /home/student/s1280181/.local/lib/python3.10/site-packages (from matplotlib->pami) (4.43.0)\n",
            "Requirement already satisfied: tzdata>=2022.1 in /home/student/s1280181/.local/lib/python3.10/site-packages (from pandas->pami) (2023.3)\n",
            "Requirement already satisfied: pytz>=2020.1 in /usr/lib/python3/dist-packages (from pandas->pami) (2022.1)\n",
            "Requirement already satisfied: tenacity>=6.2.0 in /home/student/s1280181/.local/lib/python3.10/site-packages (from plotly->pami) (8.2.3)\n",
            "Requirement already satisfied: JsonSir>=0.0.2 in /home/student/s1280181/.local/lib/python3.10/site-packages (from resource->pami) (0.0.2)\n",
            "Requirement already satisfied: JsonForm>=0.0.2 in /home/student/s1280181/.local/lib/python3.10/site-packages (from resource->pami) (0.0.2)\n",
            "Requirement already satisfied: python-easyconfig>=0.1.0 in /home/student/s1280181/.local/lib/python3.10/site-packages (from resource->pami) (0.1.7)\n",
            "Requirement already satisfied: jsonschema in /usr/lib/python3/dist-packages (from JsonForm>=0.0.2->resource->pami) (3.2.0)\n",
            "Requirement already satisfied: six>=1.5 in /usr/lib/python3/dist-packages (from python-dateutil>=2.7->matplotlib->pami) (1.16.0)\n",
            "Requirement already satisfied: PyYAML in /usr/lib/python3/dist-packages (from python-easyconfig>=0.1.0->resource->pami) (5.4.1)\n"
          ]
        }
      ],
      "source": [
        "!pip install pami"
      ]
    },
    {
      "cell_type": "markdown",
      "id": "50454f23-8a40-47c9-9a7f-8a956300ec74",
      "metadata": {
        "id": "50454f23-8a40-47c9-9a7f-8a956300ec74"
      },
      "source": [
        "# 2.Reading and processing CSV"
      ]
    },
    {
      "cell_type": "code",
      "execution_count": null,
      "id": "9c0ad531-c7fc-490e-b61a-086a99dae709",
      "metadata": {
        "tags": [],
        "id": "9c0ad531-c7fc-490e-b61a-086a99dae709",
        "outputId": "c7a50af3-9d0e-4e08-e507-f7a1a2785603"
      },
      "outputs": [
        {
          "name": "stdout",
          "output_type": "stream",
          "text": [
            "['rowNumber', 'stationId', 'Location', 'Address']\n"
          ]
        }
      ],
      "source": [
        "import csv\n",
        "file = open('station_Info.csv')\n",
        "csvReader = csv.reader(file)\n",
        "\n",
        "header = next(csvReader)\n",
        "print(header)\n"
      ]
    },
    {
      "cell_type": "markdown",
      "id": "f19eab6b-eac1-43f3-b9e3-b27f02f26d12",
      "metadata": {
        "id": "f19eab6b-eac1-43f3-b9e3-b27f02f26d12"
      },
      "source": [
        "# 3.Reading csv with Pandas"
      ]
    },
    {
      "cell_type": "code",
      "execution_count": null,
      "id": "3a7edcf7-0329-4e0f-baff-eff2225f75ae",
      "metadata": {
        "tags": [],
        "id": "3a7edcf7-0329-4e0f-baff-eff2225f75ae",
        "outputId": "802be8d5-5fda-49a6-a1b0-e3437967952e"
      },
      "outputs": [
        {
          "name": "stdout",
          "output_type": "stream",
          "text": [
            "   rowNumber  stationId                              Location          Address\n",
            "0          1    1101010  Point(141.3532777 43.06225480000001)       札幌市中央区北１西２\n",
            "1          2    1101020         Point(141.3252375 43.0396273)     札幌市中央区南２３西１３\n",
            "2          3    1101520  Point(141.3532777 43.06225480000001)       札幌市中央区北１西２\n",
            "3          4    1101540         Point(141.3445286 43.0409769)  札幌市中央区南１４条西１０丁目\n",
            "4          5    1102010         Point(141.3711567 43.1453261)       札幌市北区篠路４－９\n",
            "Index(['rowNumber', 'stationId', 'Location', 'Address'], dtype='object')\n",
            "      rowNumber                              Location              Address\n",
            "0             1  Point(141.3532777 43.06225480000001)           札幌市中央区北１西２\n",
            "1             2         Point(141.3252375 43.0396273)         札幌市中央区南２３西１３\n",
            "2             3  Point(141.3532777 43.06225480000001)           札幌市中央区北１西２\n",
            "3             4         Point(141.3445286 43.0409769)      札幌市中央区南１４条西１０丁目\n",
            "4             5         Point(141.3711567 43.1453261)           札幌市北区篠路４－９\n",
            "...         ...                                   ...                  ...\n",
            "1742       1743         Point(127.6656429 26.1460274)          糸満市西崎町３－１７９\n",
            "1743       1744         Point(127.8197995 26.3478034)          沖縄市美原１－６－２８\n",
            "1744       1745         Point(128.1779451 26.7456488)  国頭郡国頭村大字宜名真字長根原1000\n",
            "1745       1746         Point(127.9723621 26.3565509)         うるま市与那城桃原２１９\n",
            "1746       1747         Point(127.7578588 26.2219792)        中頭郡西原町字与那城１３５\n",
            "\n",
            "[1747 rows x 3 columns]\n",
            "(1747, 4)\n"
          ]
        }
      ],
      "source": [
        "import pandas as pd\n",
        "df = pd.read_csv('station_Info.csv')\n",
        "print(df.head())\n",
        "print(df.columns)\n",
        "print(df.drop('stationId', axis=1))\n",
        "print(df.shape)"
      ]
    },
    {
      "cell_type": "code",
      "execution_count": null,
      "id": "9e25f059-83ba-4970-9cf9-447a544aaf4e",
      "metadata": {
        "id": "9e25f059-83ba-4970-9cf9-447a544aaf4e"
      },
      "outputs": [],
      "source": []
    }
  ],
  "metadata": {
    "kernelspec": {
      "display_name": "Python 3 (ipykernel)",
      "language": "python",
      "name": "python3"
    },
    "language_info": {
      "codemirror_mode": {
        "name": "ipython",
        "version": 3
      },
      "file_extension": ".py",
      "mimetype": "text/x-python",
      "name": "python",
      "nbconvert_exporter": "python",
      "pygments_lexer": "ipython3",
      "version": "3.11.5"
    },
    "colab": {
      "provenance": [],
      "include_colab_link": true
    }
  },
  "nbformat": 4,
  "nbformat_minor": 5
}