{
 "cells": [
  {
   "cell_type": "markdown",
   "id": "a5b4c3f3-7440-4ea8-9de5-7566edb4498f",
   "metadata": {},
   "source": [
    "# Step 5: Creating Fuzzy Membership Functions"
   ]
  },
  {
   "cell_type": "markdown",
   "id": "65ab3092-35f7-4491-a32f-dad5472b10ba",
   "metadata": {},
   "source": [
    "## Step a: Insert the diagram containing the fuzzy membership functions"
   ]
  },
  {
   "cell_type": "markdown",
   "metadata": {},
   "source": [
    "- [Open with Colab](https://colab.research.google.com/github/RiRibeL/REPO_NAME/blob/master/NOTEBOOK.ipynb)"
   ]
  },
  {
   "cell_type": "code",
   "execution_count": null,
   "id": "b61f9738-d7e8-498e-b226-4b04b95ff39d",
   "metadata": {},
   "outputs": [],
   "source": []
  },
  {
   "cell_type": "markdown",
   "id": "50a1015a-c87a-4576-97f0-9f4d584f1d4c",
   "metadata": {
    "tags": []
   },
   "source": [
    "## Step b: Insert the Picture containing the mathematical equations of the fuzzy membership functions"
   ]
  },
  {
   "cell_type": "code",
   "execution_count": null,
   "id": "c1deca59-4cd9-43ca-89d0-7bb1cb8589ae",
   "metadata": {},
   "outputs": [],
   "source": []
  },
  {
   "cell_type": "markdown",
   "id": "7e3bc988-38cd-4264-afb0-2dea06ae6395",
   "metadata": {},
   "source": [
    "***"
   ]
  },
  {
   "cell_type": "markdown",
   "id": "604d18a2-ae23-45c5-8781-a37c2faf9cae",
   "metadata": {},
   "source": [
    "# Step 6: Mining Fuzzy Frequent Patterns"
   ]
  },
  {
   "cell_type": "markdown",
   "id": "067c18bc-12fb-4e4a-b4a4-56746a202279",
   "metadata": {
    "tags": []
   },
   "source": [
    "## Step a: Read the file as a data frame"
   ]
  },
  {
   "cell_type": "code",
   "execution_count": null,
   "id": "1fca4569-b95a-4be5-b36a-66bb8d916442",
   "metadata": {},
   "outputs": [],
   "source": []
  },
  {
   "cell_type": "markdown",
   "id": "2c15b6f0-d1f8-47ca-b474-dbcb117b3e79",
   "metadata": {},
   "source": [
    "## Step b: Replace the cells containing the value 'None' to 'NaN'"
   ]
  },
  {
   "cell_type": "code",
   "execution_count": null,
   "id": "91a25d0a-8b2f-43b3-88e4-1c01bcb87f1d",
   "metadata": {},
   "outputs": [],
   "source": []
  },
  {
   "cell_type": "markdown",
   "id": "1578e04a-6c1f-487a-85ef-786031f9796c",
   "metadata": {},
   "source": [
    "## Step c:  Do the preprocessing step by analyzing the data. In this step, replace the abnormal high and low SO2 values to zero."
   ]
  },
  {
   "cell_type": "code",
   "execution_count": null,
   "id": "1b09b12a-139b-428d-8127-ed1698c37089",
   "metadata": {},
   "outputs": [],
   "source": []
  },
  {
   "cell_type": "markdown",
   "id": "1689be33-5f42-482a-a956-25fa0d094433",
   "metadata": {
    "tags": []
   },
   "source": [
    "## Step d: Convert the dataframe into a fuzzy transactional database."
   ]
  },
  {
   "cell_type": "code",
   "execution_count": null,
   "id": "5274a0de-8a88-45f0-a25b-1edbadaed9e3",
   "metadata": {},
   "outputs": [],
   "source": []
  },
  {
   "cell_type": "markdown",
   "id": "b1768ba8-1c5b-4ebf-8676-b114e2cc10b7",
   "metadata": {},
   "source": [
    "## Step e: Extract patterns."
   ]
  },
  {
   "cell_type": "code",
   "execution_count": null,
   "id": "0e1abb89-0bcb-402a-89f1-582499372f13",
   "metadata": {},
   "outputs": [],
   "source": []
  },
  {
   "cell_type": "code",
   "execution_count": null,
   "id": "57babe7a-c5d3-4386-a83a-3309c0374b28",
   "metadata": {},
   "outputs": [],
   "source": [
    "#Save the file as PDF and share it in the moodle."
   ]
  }
 ],
 "metadata": {
  "kernelspec": {
   "display_name": "Python 3 (ipykernel)",
   "language": "python",
   "name": "python3"
  },
  "language_info": {
   "codemirror_mode": {
    "name": "ipython",
    "version": 3
   },
   "file_extension": ".py",
   "mimetype": "text/x-python",
   "name": "python",
   "nbconvert_exporter": "python",
   "pygments_lexer": "ipython3",
   "version": "3.11.3"
  }
 },
 "nbformat": 4,
 "nbformat_minor": 5
}
