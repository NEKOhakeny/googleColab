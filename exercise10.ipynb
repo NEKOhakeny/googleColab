{
 "cells": [
  {
   "cell_type": "markdown",
   "id": "a5b4c3f3-7440-4ea8-9de5-7566edb4498f",
   "metadata": {},
   "source": [
    "# Step 5: Creating Fuzzy Membership Functions\n",
    "## s1280181 kegno KAKAZU"
   ]
  },
  {
   "cell_type": "markdown",
   "id": "65ab3092-35f7-4491-a32f-dad5472b10ba",
   "metadata": {},
   "source": [
    "## Step a: Insert the diagram containing the fuzzy membership functions"
   ]
  },
  {
   "cell_type": "markdown",
   "metadata": {},
   "source": [
    "- [Open with Colab](https://colab.research.google.com/github/RiRibeL/REPO_NAME/blob/master/ex10.ipynb)"
   ]
  },
  {
   "cell_type": "markdown",
   "metadata": {},
   "source": [
    "# ![Diagram](./exercise10-1.png)"
   ]
  },
  {
   "cell_type": "code",
   "execution_count": 1,
   "metadata": {},
   "outputs": [
    {
     "name": "stdout",
     "output_type": "stream",
     "text": [
      "Requirement already satisfied: PAMI in /Users/kengokakazu/anaconda3/lib/python3.11/site-packages (2023.11.17.1)\n",
      "Requirement already satisfied: psutil in /Users/kengokakazu/anaconda3/lib/python3.11/site-packages (from PAMI) (5.9.0)\n",
      "Requirement already satisfied: pandas in /Users/kengokakazu/anaconda3/lib/python3.11/site-packages (from PAMI) (1.5.3)\n",
      "Requirement already satisfied: plotly in /Users/kengokakazu/anaconda3/lib/python3.11/site-packages (from PAMI) (5.9.0)\n",
      "Requirement already satisfied: matplotlib in /Users/kengokakazu/anaconda3/lib/python3.11/site-packages (from PAMI) (3.7.1)\n",
      "Requirement already satisfied: resource in /Users/kengokakazu/anaconda3/lib/python3.11/site-packages (from PAMI) (0.2.1)\n",
      "Requirement already satisfied: validators in /Users/kengokakazu/anaconda3/lib/python3.11/site-packages (from PAMI) (0.20.0)\n",
      "Requirement already satisfied: urllib3 in /Users/kengokakazu/anaconda3/lib/python3.11/site-packages (from PAMI) (1.26.16)\n",
      "Requirement already satisfied: Pillow in /Users/kengokakazu/anaconda3/lib/python3.11/site-packages (from PAMI) (9.4.0)\n",
      "Requirement already satisfied: numpy in /Users/kengokakazu/anaconda3/lib/python3.11/site-packages (from PAMI) (1.24.3)\n",
      "Requirement already satisfied: sphinx-rtd-theme in /Users/kengokakazu/anaconda3/lib/python3.11/site-packages (from PAMI) (1.3.0)\n",
      "Requirement already satisfied: contourpy>=1.0.1 in /Users/kengokakazu/anaconda3/lib/python3.11/site-packages (from matplotlib->PAMI) (1.0.5)\n",
      "Requirement already satisfied: cycler>=0.10 in /Users/kengokakazu/anaconda3/lib/python3.11/site-packages (from matplotlib->PAMI) (0.11.0)\n",
      "Requirement already satisfied: fonttools>=4.22.0 in /Users/kengokakazu/anaconda3/lib/python3.11/site-packages (from matplotlib->PAMI) (4.25.0)\n",
      "Requirement already satisfied: kiwisolver>=1.0.1 in /Users/kengokakazu/anaconda3/lib/python3.11/site-packages (from matplotlib->PAMI) (1.4.4)\n",
      "Requirement already satisfied: packaging>=20.0 in /Users/kengokakazu/anaconda3/lib/python3.11/site-packages (from matplotlib->PAMI) (23.0)\n",
      "Requirement already satisfied: pyparsing>=2.3.1 in /Users/kengokakazu/anaconda3/lib/python3.11/site-packages (from matplotlib->PAMI) (3.0.9)\n",
      "Requirement already satisfied: python-dateutil>=2.7 in /Users/kengokakazu/anaconda3/lib/python3.11/site-packages (from matplotlib->PAMI) (2.8.2)\n",
      "Requirement already satisfied: pytz>=2020.1 in /Users/kengokakazu/anaconda3/lib/python3.11/site-packages (from pandas->PAMI) (2022.7)\n",
      "Requirement already satisfied: tenacity>=6.2.0 in /Users/kengokakazu/anaconda3/lib/python3.11/site-packages (from plotly->PAMI) (8.2.2)\n",
      "Requirement already satisfied: JsonForm>=0.0.2 in /Users/kengokakazu/anaconda3/lib/python3.11/site-packages (from resource->PAMI) (0.0.2)\n",
      "Requirement already satisfied: JsonSir>=0.0.2 in /Users/kengokakazu/anaconda3/lib/python3.11/site-packages (from resource->PAMI) (0.0.2)\n",
      "Requirement already satisfied: python-easyconfig>=0.1.0 in /Users/kengokakazu/anaconda3/lib/python3.11/site-packages (from resource->PAMI) (0.1.7)\n",
      "Requirement already satisfied: sphinx<8,>=1.6 in /Users/kengokakazu/anaconda3/lib/python3.11/site-packages (from sphinx-rtd-theme->PAMI) (5.0.2)\n",
      "Requirement already satisfied: docutils<0.19 in /Users/kengokakazu/anaconda3/lib/python3.11/site-packages (from sphinx-rtd-theme->PAMI) (0.18.1)\n",
      "Requirement already satisfied: sphinxcontrib-jquery<5,>=4 in /Users/kengokakazu/anaconda3/lib/python3.11/site-packages (from sphinx-rtd-theme->PAMI) (4.1)\n",
      "Requirement already satisfied: decorator>=3.4.0 in /Users/kengokakazu/anaconda3/lib/python3.11/site-packages (from validators->PAMI) (5.1.1)\n",
      "Requirement already satisfied: jsonschema in /Users/kengokakazu/anaconda3/lib/python3.11/site-packages (from JsonForm>=0.0.2->resource->PAMI) (4.17.3)\n",
      "Requirement already satisfied: six>=1.5 in /Users/kengokakazu/anaconda3/lib/python3.11/site-packages (from python-dateutil>=2.7->matplotlib->PAMI) (1.16.0)\n",
      "Requirement already satisfied: PyYAML in /Users/kengokakazu/anaconda3/lib/python3.11/site-packages (from python-easyconfig>=0.1.0->resource->PAMI) (6.0)\n",
      "Requirement already satisfied: sphinxcontrib-applehelp in /Users/kengokakazu/anaconda3/lib/python3.11/site-packages (from sphinx<8,>=1.6->sphinx-rtd-theme->PAMI) (1.0.2)\n",
      "Requirement already satisfied: sphinxcontrib-devhelp in /Users/kengokakazu/anaconda3/lib/python3.11/site-packages (from sphinx<8,>=1.6->sphinx-rtd-theme->PAMI) (1.0.2)\n",
      "Requirement already satisfied: sphinxcontrib-jsmath in /Users/kengokakazu/anaconda3/lib/python3.11/site-packages (from sphinx<8,>=1.6->sphinx-rtd-theme->PAMI) (1.0.1)\n",
      "Requirement already satisfied: sphinxcontrib-htmlhelp>=2.0.0 in /Users/kengokakazu/anaconda3/lib/python3.11/site-packages (from sphinx<8,>=1.6->sphinx-rtd-theme->PAMI) (2.0.0)\n",
      "Requirement already satisfied: sphinxcontrib-serializinghtml>=1.1.5 in /Users/kengokakazu/anaconda3/lib/python3.11/site-packages (from sphinx<8,>=1.6->sphinx-rtd-theme->PAMI) (1.1.5)\n",
      "Requirement already satisfied: sphinxcontrib-qthelp in /Users/kengokakazu/anaconda3/lib/python3.11/site-packages (from sphinx<8,>=1.6->sphinx-rtd-theme->PAMI) (1.0.3)\n",
      "Requirement already satisfied: Jinja2>=2.3 in /Users/kengokakazu/anaconda3/lib/python3.11/site-packages (from sphinx<8,>=1.6->sphinx-rtd-theme->PAMI) (3.1.2)\n",
      "Requirement already satisfied: Pygments>=2.0 in /Users/kengokakazu/anaconda3/lib/python3.11/site-packages (from sphinx<8,>=1.6->sphinx-rtd-theme->PAMI) (2.15.1)\n",
      "Requirement already satisfied: snowballstemmer>=1.1 in /Users/kengokakazu/anaconda3/lib/python3.11/site-packages (from sphinx<8,>=1.6->sphinx-rtd-theme->PAMI) (2.2.0)\n",
      "Requirement already satisfied: babel>=1.3 in /Users/kengokakazu/anaconda3/lib/python3.11/site-packages (from sphinx<8,>=1.6->sphinx-rtd-theme->PAMI) (2.11.0)\n",
      "Requirement already satisfied: alabaster<0.8,>=0.7 in /Users/kengokakazu/anaconda3/lib/python3.11/site-packages (from sphinx<8,>=1.6->sphinx-rtd-theme->PAMI) (0.7.12)\n",
      "Requirement already satisfied: imagesize in /Users/kengokakazu/anaconda3/lib/python3.11/site-packages (from sphinx<8,>=1.6->sphinx-rtd-theme->PAMI) (1.4.1)\n",
      "Requirement already satisfied: requests>=2.5.0 in /Users/kengokakazu/anaconda3/lib/python3.11/site-packages (from sphinx<8,>=1.6->sphinx-rtd-theme->PAMI) (2.29.0)\n",
      "Requirement already satisfied: MarkupSafe>=2.0 in /Users/kengokakazu/anaconda3/lib/python3.11/site-packages (from Jinja2>=2.3->sphinx<8,>=1.6->sphinx-rtd-theme->PAMI) (2.1.1)\n",
      "Requirement already satisfied: charset-normalizer<4,>=2 in /Users/kengokakazu/anaconda3/lib/python3.11/site-packages (from requests>=2.5.0->sphinx<8,>=1.6->sphinx-rtd-theme->PAMI) (2.0.4)\n",
      "Requirement already satisfied: idna<4,>=2.5 in /Users/kengokakazu/anaconda3/lib/python3.11/site-packages (from requests>=2.5.0->sphinx<8,>=1.6->sphinx-rtd-theme->PAMI) (3.4)\n",
      "Requirement already satisfied: certifi>=2017.4.17 in /Users/kengokakazu/anaconda3/lib/python3.11/site-packages (from requests>=2.5.0->sphinx<8,>=1.6->sphinx-rtd-theme->PAMI) (2023.5.7)\n",
      "Requirement already satisfied: attrs>=17.4.0 in /Users/kengokakazu/anaconda3/lib/python3.11/site-packages (from jsonschema->JsonForm>=0.0.2->resource->PAMI) (22.1.0)\n",
      "Requirement already satisfied: pyrsistent!=0.17.0,!=0.17.1,!=0.17.2,>=0.14.0 in /Users/kengokakazu/anaconda3/lib/python3.11/site-packages (from jsonschema->JsonForm>=0.0.2->resource->PAMI) (0.18.0)\n"
     ]
    }
   ],
   "source": [
    "import pandas as pd\n",
    "import numpy as np\n",
    "!pip3 install PAMI"
   ]
  },
  {
   "cell_type": "markdown",
   "id": "50a1015a-c87a-4576-97f0-9f4d584f1d4c",
   "metadata": {
    "tags": []
   },
   "source": [
    "## Step b: Insert the Picture containing the mathematical equations of the fuzzy membership functions"
   ]
  },
  {
   "cell_type": "code",
   "execution_count": null,
   "id": "c1deca59-4cd9-43ca-89d0-7bb1cb8589ae",
   "metadata": {},
   "outputs": [],
   "source": []
  },
  {
   "cell_type": "markdown",
   "id": "7e3bc988-38cd-4264-afb0-2dea06ae6395",
   "metadata": {},
   "source": [
    "***"
   ]
  },
  {
   "cell_type": "markdown",
   "id": "604d18a2-ae23-45c5-8781-a37c2faf9cae",
   "metadata": {},
   "source": [
    "# Step 6: Mining Fuzzy Frequent Patterns"
   ]
  },
  {
   "cell_type": "markdown",
   "id": "067c18bc-12fb-4e4a-b4a4-56746a202279",
   "metadata": {
    "tags": []
   },
   "source": [
    "## Step a: Read the file as a data frame"
   ]
  },
  {
   "cell_type": "code",
   "execution_count": 2,
   "id": "1fca4569-b95a-4be5-b36a-66bb8d916442",
   "metadata": {},
   "outputs": [
    {
     "ename": "UnicodeDecodeError",
     "evalue": "'shift_jis' codec can't decode byte 0xef in position 0: illegal multibyte sequence",
     "output_type": "error",
     "traceback": [
      "\u001b[0;31m---------------------------------------------------------------------------\u001b[0m",
      "\u001b[0;31mUnicodeDecodeError\u001b[0m                        Traceback (most recent call last)",
      "\u001b[1;32m/Users/kengokakazu/Python/Ex10/googleColab/exercise10.ipynb Cell 10\u001b[0m line \u001b[0;36m1\n\u001b[0;32m----> <a href='vscode-notebook-cell:/Users/kengokakazu/Python/Ex10/googleColab/exercise10.ipynb#X12sZmlsZQ%3D%3D?line=0'>1</a>\u001b[0m df \u001b[39m=\u001b[39m pd\u001b[39m.\u001b[39mread_csv(\u001b[39m'\u001b[39m\u001b[39m./202311_14_14206010.csv\u001b[39m\u001b[39m'\u001b[39m,encoding \u001b[39m=\u001b[39m \u001b[39m'\u001b[39m\u001b[39mshift_jis\u001b[39m\u001b[39m'\u001b[39m)\n\u001b[1;32m      <a href='vscode-notebook-cell:/Users/kengokakazu/Python/Ex10/googleColab/exercise10.ipynb#X12sZmlsZQ%3D%3D?line=1'>2</a>\u001b[0m df\u001b[39m.\u001b[39mcolumns\n\u001b[1;32m      <a href='vscode-notebook-cell:/Users/kengokakazu/Python/Ex10/googleColab/exercise10.ipynb#X12sZmlsZQ%3D%3D?line=2'>3</a>\u001b[0m df \u001b[39m=\u001b[39m df\u001b[39m.\u001b[39mdrop(df\u001b[39m.\u001b[39mcolumns[\u001b[39m4\u001b[39m:],axis\u001b[39m=\u001b[39m\u001b[39m1\u001b[39m)\n",
      "File \u001b[0;32m~/anaconda3/lib/python3.11/site-packages/pandas/util/_decorators.py:211\u001b[0m, in \u001b[0;36mdeprecate_kwarg.<locals>._deprecate_kwarg.<locals>.wrapper\u001b[0;34m(*args, **kwargs)\u001b[0m\n\u001b[1;32m    209\u001b[0m     \u001b[39melse\u001b[39;00m:\n\u001b[1;32m    210\u001b[0m         kwargs[new_arg_name] \u001b[39m=\u001b[39m new_arg_value\n\u001b[0;32m--> 211\u001b[0m \u001b[39mreturn\u001b[39;00m func(\u001b[39m*\u001b[39margs, \u001b[39m*\u001b[39m\u001b[39m*\u001b[39mkwargs)\n",
      "File \u001b[0;32m~/anaconda3/lib/python3.11/site-packages/pandas/util/_decorators.py:331\u001b[0m, in \u001b[0;36mdeprecate_nonkeyword_arguments.<locals>.decorate.<locals>.wrapper\u001b[0;34m(*args, **kwargs)\u001b[0m\n\u001b[1;32m    325\u001b[0m \u001b[39mif\u001b[39;00m \u001b[39mlen\u001b[39m(args) \u001b[39m>\u001b[39m num_allow_args:\n\u001b[1;32m    326\u001b[0m     warnings\u001b[39m.\u001b[39mwarn(\n\u001b[1;32m    327\u001b[0m         msg\u001b[39m.\u001b[39mformat(arguments\u001b[39m=\u001b[39m_format_argument_list(allow_args)),\n\u001b[1;32m    328\u001b[0m         \u001b[39mFutureWarning\u001b[39;00m,\n\u001b[1;32m    329\u001b[0m         stacklevel\u001b[39m=\u001b[39mfind_stack_level(),\n\u001b[1;32m    330\u001b[0m     )\n\u001b[0;32m--> 331\u001b[0m \u001b[39mreturn\u001b[39;00m func(\u001b[39m*\u001b[39margs, \u001b[39m*\u001b[39m\u001b[39m*\u001b[39mkwargs)\n",
      "File \u001b[0;32m~/anaconda3/lib/python3.11/site-packages/pandas/io/parsers/readers.py:950\u001b[0m, in \u001b[0;36mread_csv\u001b[0;34m(filepath_or_buffer, sep, delimiter, header, names, index_col, usecols, squeeze, prefix, mangle_dupe_cols, dtype, engine, converters, true_values, false_values, skipinitialspace, skiprows, skipfooter, nrows, na_values, keep_default_na, na_filter, verbose, skip_blank_lines, parse_dates, infer_datetime_format, keep_date_col, date_parser, dayfirst, cache_dates, iterator, chunksize, compression, thousands, decimal, lineterminator, quotechar, quoting, doublequote, escapechar, comment, encoding, encoding_errors, dialect, error_bad_lines, warn_bad_lines, on_bad_lines, delim_whitespace, low_memory, memory_map, float_precision, storage_options)\u001b[0m\n\u001b[1;32m    935\u001b[0m kwds_defaults \u001b[39m=\u001b[39m _refine_defaults_read(\n\u001b[1;32m    936\u001b[0m     dialect,\n\u001b[1;32m    937\u001b[0m     delimiter,\n\u001b[0;32m   (...)\u001b[0m\n\u001b[1;32m    946\u001b[0m     defaults\u001b[39m=\u001b[39m{\u001b[39m\"\u001b[39m\u001b[39mdelimiter\u001b[39m\u001b[39m\"\u001b[39m: \u001b[39m\"\u001b[39m\u001b[39m,\u001b[39m\u001b[39m\"\u001b[39m},\n\u001b[1;32m    947\u001b[0m )\n\u001b[1;32m    948\u001b[0m kwds\u001b[39m.\u001b[39mupdate(kwds_defaults)\n\u001b[0;32m--> 950\u001b[0m \u001b[39mreturn\u001b[39;00m _read(filepath_or_buffer, kwds)\n",
      "File \u001b[0;32m~/anaconda3/lib/python3.11/site-packages/pandas/io/parsers/readers.py:605\u001b[0m, in \u001b[0;36m_read\u001b[0;34m(filepath_or_buffer, kwds)\u001b[0m\n\u001b[1;32m    602\u001b[0m _validate_names(kwds\u001b[39m.\u001b[39mget(\u001b[39m\"\u001b[39m\u001b[39mnames\u001b[39m\u001b[39m\"\u001b[39m, \u001b[39mNone\u001b[39;00m))\n\u001b[1;32m    604\u001b[0m \u001b[39m# Create the parser.\u001b[39;00m\n\u001b[0;32m--> 605\u001b[0m parser \u001b[39m=\u001b[39m TextFileReader(filepath_or_buffer, \u001b[39m*\u001b[39m\u001b[39m*\u001b[39mkwds)\n\u001b[1;32m    607\u001b[0m \u001b[39mif\u001b[39;00m chunksize \u001b[39mor\u001b[39;00m iterator:\n\u001b[1;32m    608\u001b[0m     \u001b[39mreturn\u001b[39;00m parser\n",
      "File \u001b[0;32m~/anaconda3/lib/python3.11/site-packages/pandas/io/parsers/readers.py:1442\u001b[0m, in \u001b[0;36mTextFileReader.__init__\u001b[0;34m(self, f, engine, **kwds)\u001b[0m\n\u001b[1;32m   1439\u001b[0m     \u001b[39mself\u001b[39m\u001b[39m.\u001b[39moptions[\u001b[39m\"\u001b[39m\u001b[39mhas_index_names\u001b[39m\u001b[39m\"\u001b[39m] \u001b[39m=\u001b[39m kwds[\u001b[39m\"\u001b[39m\u001b[39mhas_index_names\u001b[39m\u001b[39m\"\u001b[39m]\n\u001b[1;32m   1441\u001b[0m \u001b[39mself\u001b[39m\u001b[39m.\u001b[39mhandles: IOHandles \u001b[39m|\u001b[39m \u001b[39mNone\u001b[39;00m \u001b[39m=\u001b[39m \u001b[39mNone\u001b[39;00m\n\u001b[0;32m-> 1442\u001b[0m \u001b[39mself\u001b[39m\u001b[39m.\u001b[39m_engine \u001b[39m=\u001b[39m \u001b[39mself\u001b[39m\u001b[39m.\u001b[39m_make_engine(f, \u001b[39mself\u001b[39m\u001b[39m.\u001b[39mengine)\n",
      "File \u001b[0;32m~/anaconda3/lib/python3.11/site-packages/pandas/io/parsers/readers.py:1753\u001b[0m, in \u001b[0;36mTextFileReader._make_engine\u001b[0;34m(self, f, engine)\u001b[0m\n\u001b[1;32m   1750\u001b[0m     \u001b[39mraise\u001b[39;00m \u001b[39mValueError\u001b[39;00m(msg)\n\u001b[1;32m   1752\u001b[0m \u001b[39mtry\u001b[39;00m:\n\u001b[0;32m-> 1753\u001b[0m     \u001b[39mreturn\u001b[39;00m mapping[engine](f, \u001b[39m*\u001b[39m\u001b[39m*\u001b[39m\u001b[39mself\u001b[39m\u001b[39m.\u001b[39moptions)\n\u001b[1;32m   1754\u001b[0m \u001b[39mexcept\u001b[39;00m \u001b[39mException\u001b[39;00m:\n\u001b[1;32m   1755\u001b[0m     \u001b[39mif\u001b[39;00m \u001b[39mself\u001b[39m\u001b[39m.\u001b[39mhandles \u001b[39mis\u001b[39;00m \u001b[39mnot\u001b[39;00m \u001b[39mNone\u001b[39;00m:\n",
      "File \u001b[0;32m~/anaconda3/lib/python3.11/site-packages/pandas/io/parsers/c_parser_wrapper.py:79\u001b[0m, in \u001b[0;36mCParserWrapper.__init__\u001b[0;34m(self, src, **kwds)\u001b[0m\n\u001b[1;32m     76\u001b[0m     kwds\u001b[39m.\u001b[39mpop(key, \u001b[39mNone\u001b[39;00m)\n\u001b[1;32m     78\u001b[0m kwds[\u001b[39m\"\u001b[39m\u001b[39mdtype\u001b[39m\u001b[39m\"\u001b[39m] \u001b[39m=\u001b[39m ensure_dtype_objs(kwds\u001b[39m.\u001b[39mget(\u001b[39m\"\u001b[39m\u001b[39mdtype\u001b[39m\u001b[39m\"\u001b[39m, \u001b[39mNone\u001b[39;00m))\n\u001b[0;32m---> 79\u001b[0m \u001b[39mself\u001b[39m\u001b[39m.\u001b[39m_reader \u001b[39m=\u001b[39m parsers\u001b[39m.\u001b[39mTextReader(src, \u001b[39m*\u001b[39m\u001b[39m*\u001b[39mkwds)\n\u001b[1;32m     81\u001b[0m \u001b[39mself\u001b[39m\u001b[39m.\u001b[39munnamed_cols \u001b[39m=\u001b[39m \u001b[39mself\u001b[39m\u001b[39m.\u001b[39m_reader\u001b[39m.\u001b[39munnamed_cols\n\u001b[1;32m     83\u001b[0m \u001b[39m# error: Cannot determine type of 'names'\u001b[39;00m\n",
      "File \u001b[0;32m~/anaconda3/lib/python3.11/site-packages/pandas/_libs/parsers.pyx:547\u001b[0m, in \u001b[0;36mpandas._libs.parsers.TextReader.__cinit__\u001b[0;34m()\u001b[0m\n",
      "File \u001b[0;32m~/anaconda3/lib/python3.11/site-packages/pandas/_libs/parsers.pyx:636\u001b[0m, in \u001b[0;36mpandas._libs.parsers.TextReader._get_header\u001b[0;34m()\u001b[0m\n",
      "File \u001b[0;32m~/anaconda3/lib/python3.11/site-packages/pandas/_libs/parsers.pyx:852\u001b[0m, in \u001b[0;36mpandas._libs.parsers.TextReader._tokenize_rows\u001b[0;34m()\u001b[0m\n",
      "File \u001b[0;32m~/anaconda3/lib/python3.11/site-packages/pandas/_libs/parsers.pyx:1965\u001b[0m, in \u001b[0;36mpandas._libs.parsers.raise_parser_error\u001b[0;34m()\u001b[0m\n",
      "\u001b[0;31mUnicodeDecodeError\u001b[0m: 'shift_jis' codec can't decode byte 0xef in position 0: illegal multibyte sequence"
     ]
    }
   ],
   "source": [
    "df = pd.read_csv('./202311_14_14206010.csv',encoding = 'shift_jis')\n",
    "df.columns\n",
    "df = df.drop(df.columns[4:],axis=1)\n",
    "df = df.drop(['測定局コード'],axis = 1)\n",
    "df_Day = df['日付']\n",
    "cnt = 0\n",
    "for index in df['日付']:\n",
    "    index = index.split('/')\n",
    "    s = ''\n",
    "    for idx in index:\n",
    "        s += idx\n",
    "    df_Day[cnt] = int(s)\n",
    "    cnt += 1\n",
    "df['日付'] = df_Day\n",
    "print(df)"
   ]
  },
  {
   "cell_type": "markdown",
   "id": "2c15b6f0-d1f8-47ca-b474-dbcb117b3e79",
   "metadata": {},
   "source": [
    "## Step b: Replace the cells containing the value 'None' to 'NaN'"
   ]
  },
  {
   "cell_type": "code",
   "execution_count": null,
   "id": "91a25d0a-8b2f-43b3-88e4-1c01bcb87f1d",
   "metadata": {},
   "outputs": [],
   "source": [
    "\n",
    "df = df.fillna(np.nan)"
   ]
  },
  {
   "cell_type": "markdown",
   "id": "1578e04a-6c1f-487a-85ef-786031f9796c",
   "metadata": {},
   "source": [
    "## Step c:  Do the preprocessing step by analyzing the data. In this step, replace the abnormal high and low SO2 values to zero."
   ]
  },
  {
   "cell_type": "code",
   "execution_count": null,
   "id": "1b09b12a-139b-428d-8127-ed1698c37089",
   "metadata": {},
   "outputs": [
    {
     "data": {
      "text/plain": [
       "'0.005'"
      ]
     },
     "execution_count": 79,
     "metadata": {},
     "output_type": "execute_result"
    }
   ],
   "source": [
    "maxValueInEachColumn = df['SO2(ppm)'].max() \n",
    "maxValueInEachColumn\n"
   ]
  },
  {
   "cell_type": "code",
   "execution_count": null,
   "metadata": {},
   "outputs": [
    {
     "data": {
      "text/plain": [
       "'-'"
      ]
     },
     "execution_count": 80,
     "metadata": {},
     "output_type": "execute_result"
    }
   ],
   "source": [
    "minValueInEachColumn = df['SO2(ppm)'].min() #Reading the minimum PM2.5 value recorded by each sensor\n",
    "minValueInEachColumn\n"
   ]
  },
  {
   "cell_type": "code",
   "execution_count": null,
   "metadata": {},
   "outputs": [
    {
     "name": "stdout",
     "output_type": "stream",
     "text": [
      "<class 'pandas.core.frame.DataFrame'>\n",
      "           日付   時  SO2(ppm)\n",
      "0    20231101   1         2\n",
      "1    20231101   2         2\n",
      "2    20231101   3         2\n",
      "3    20231101   4         2\n",
      "4    20231101   5         2\n",
      "..        ...  ..       ...\n",
      "520  20231122  18         2\n",
      "521  20231122  19         2\n",
      "522  20231122  20         2\n",
      "523  20231122  21         2\n",
      "524  20231122  22         2\n",
      "\n",
      "[525 rows x 3 columns]\n"
     ]
    }
   ],
   "source": [
    "print(type(df))\n",
    "df = df.mask(df == '-', 0)\n",
    "df2 = df['SO2(ppm)'].astype(float)\n",
    "cnt = 0\n",
    "for index in df2:\n",
    "    index *= 1000\n",
    "    df2[cnt] = index\n",
    "    cnt = cnt + 1\n",
    "df['SO2(ppm)'] = df2.astype(int)\n",
    "print(df)\n"
   ]
  },
  {
   "cell_type": "markdown",
   "id": "1689be33-5f42-482a-a956-25fa0d094433",
   "metadata": {
    "tags": []
   },
   "source": [
    "## Step d: Convert the dataframe into a fuzzy transactional database."
   ]
  },
  {
   "cell_type": "code",
   "execution_count": null,
   "id": "5274a0de-8a88-45f0-a25b-1edbadaed9e3",
   "metadata": {},
   "outputs": [
    {
     "ename": "ValueError",
     "evalue": "invalid literal for int() with base 10: ''",
     "output_type": "error",
     "traceback": [
      "\u001b[0;31m---------------------------------------------------------------------------\u001b[0m",
      "\u001b[0;31mValueError\u001b[0m                                Traceback (most recent call last)",
      "\u001b[1;32m/Users/kengokakazu/Python/Ex10/googleColab/exercise10.ipynb Cell 18\u001b[0m line \u001b[0;36m6\n\u001b[1;32m      <a href='vscode-notebook-cell:/Users/kengokakazu/Python/Ex10/googleColab/exercise10.ipynb#X24sZmlsZQ%3D%3D?line=3'>4</a>\u001b[0m \u001b[39mfrom\u001b[39;00m \u001b[39mPAMI\u001b[39;00m\u001b[39m.\u001b[39;00m\u001b[39mextras\u001b[39;00m \u001b[39mimport\u001b[39;00m convertMultiTSIntoFuzzy \u001b[39mas\u001b[39;00m cmts\n\u001b[1;32m      <a href='vscode-notebook-cell:/Users/kengokakazu/Python/Ex10/googleColab/exercise10.ipynb#X24sZmlsZQ%3D%3D?line=4'>5</a>\u001b[0m obj \u001b[39m=\u001b[39m cmts\u001b[39m.\u001b[39mconvertMultipleTSIntoFuzzy(\u001b[39m'\u001b[39m\u001b[39mso2.csv\u001b[39m\u001b[39m'\u001b[39m,\u001b[39m'\u001b[39m\u001b[39m./SO2levels.csv\u001b[39m\u001b[39m'\u001b[39m)\n\u001b[0;32m----> <a href='vscode-notebook-cell:/Users/kengokakazu/Python/Ex10/googleColab/exercise10.ipynb#X24sZmlsZQ%3D%3D?line=5'>6</a>\u001b[0m obj\u001b[39m.\u001b[39msave(\u001b[39m'\u001b[39m\u001b[39mSO2transactions.csv\u001b[39m\u001b[39m'\u001b[39m)\n",
      "File \u001b[0;32m~/anaconda3/lib/python3.11/site-packages/PAMI/extras/convertMultiTSIntoFuzzy.py:141\u001b[0m, in \u001b[0;36mconvertMultipleTSIntoFuzzy.save\u001b[0;34m(self, outputFile)\u001b[0m\n\u001b[1;32m    140\u001b[0m \u001b[39mdef\u001b[39;00m \u001b[39msave\u001b[39m(\u001b[39mself\u001b[39m, outputFile: \u001b[39mstr\u001b[39m) \u001b[39m-\u001b[39m\u001b[39m>\u001b[39m \u001b[39mNone\u001b[39;00m:\n\u001b[0;32m--> 141\u001b[0m     \u001b[39mself\u001b[39m\u001b[39m.\u001b[39mstartMine()\n\u001b[1;32m    142\u001b[0m     writer \u001b[39m=\u001b[39m \u001b[39mopen\u001b[39m(outputFile, \u001b[39m'\u001b[39m\u001b[39mw+\u001b[39m\u001b[39m'\u001b[39m)\n\u001b[1;32m    143\u001b[0m     \u001b[39mfor\u001b[39;00m line \u001b[39min\u001b[39;00m \u001b[39mrange\u001b[39m(\u001b[39mlen\u001b[39m(\u001b[39mself\u001b[39m\u001b[39m.\u001b[39m_transactionsDB)):\n",
      "File \u001b[0;32m~/anaconda3/lib/python3.11/site-packages/PAMI/extras/convertMultiTSIntoFuzzy.py:174\u001b[0m, in \u001b[0;36mconvertMultipleTSIntoFuzzy.startMine\u001b[0;34m(self)\u001b[0m\n\u001b[1;32m    170\u001b[0m \u001b[39m\u001b[39m\u001b[39m\"\"\" Frequent pattern mining process will start from here\u001b[39;00m\n\u001b[1;32m    171\u001b[0m \u001b[39m\"\"\"\u001b[39;00m\n\u001b[1;32m    173\u001b[0m \u001b[39mself\u001b[39m\u001b[39m.\u001b[39m_creatingItemSets()\n\u001b[0;32m--> 174\u001b[0m \u001b[39mself\u001b[39m\u001b[39m.\u001b[39m_fuzzyMembershipFunc()\n\u001b[1;32m    175\u001b[0m \u001b[39mself\u001b[39m\u001b[39m.\u001b[39m_finalPatterns \u001b[39m=\u001b[39m {}\n",
      "File \u001b[0;32m~/anaconda3/lib/python3.11/site-packages/PAMI/extras/convertMultiTSIntoFuzzy.py:84\u001b[0m, in \u001b[0;36mconvertMultipleTSIntoFuzzy._fuzzyMembershipFunc\u001b[0;34m(self)\u001b[0m\n\u001b[1;32m     82\u001b[0m lb_Label \u001b[39m=\u001b[39m parts[\u001b[39m2\u001b[39m]\u001b[39m.\u001b[39mstrip()\n\u001b[1;32m     83\u001b[0m ub_Label \u001b[39m=\u001b[39m parts[\u001b[39m3\u001b[39m]\u001b[39m.\u001b[39mstrip()\n\u001b[0;32m---> 84\u001b[0m \u001b[39mself\u001b[39m\u001b[39m.\u001b[39m_RegionsCal\u001b[39m.\u001b[39mappend([\u001b[39mint\u001b[39m(lowerBound), \u001b[39mint\u001b[39m(upperBound)])\n\u001b[1;32m     85\u001b[0m \u001b[39mself\u001b[39m\u001b[39m.\u001b[39m_RegionsLabel\u001b[39m.\u001b[39mappend([lb_Label, ub_Label])\n\u001b[1;32m     86\u001b[0m \u001b[39mfor\u001b[39;00m i \u001b[39min\u001b[39;00m \u001b[39mrange\u001b[39m(\u001b[39m0\u001b[39m, \u001b[39m2\u001b[39m):\n",
      "\u001b[0;31mValueError\u001b[0m: invalid literal for int() with base 10: ''"
     ]
    }
   ],
   "source": [
    "from PAMI.extras.DF2DB import denseDF2DB as db\n",
    "oj = db.denseDF2DB(df, '>=', 41)\n",
    "oj.convertMultipleTimeSeries(2,'so2.csv')\n",
    "from PAMI.extras import convertMultiTSIntoFuzzy as cmts\n",
    "obj = cmts.convertMultipleTSIntoFuzzy('so2.csv','./SO2levels.csv')\n",
    "obj.save('SO2transactions.csv')"
   ]
  },
  {
   "cell_type": "markdown",
   "id": "b1768ba8-1c5b-4ebf-8676-b114e2cc10b7",
   "metadata": {},
   "source": [
    "## Step e: Extract patterns."
   ]
  },
  {
   "cell_type": "code",
   "execution_count": null,
   "id": "0e1abb89-0bcb-402a-89f1-582499372f13",
   "metadata": {},
   "outputs": [],
   "source": []
  },
  {
   "cell_type": "code",
   "execution_count": null,
   "id": "57babe7a-c5d3-4386-a83a-3309c0374b28",
   "metadata": {},
   "outputs": [],
   "source": [
    "#Save the file as PDF and share it in the moodle."
   ]
  }
 ],
 "metadata": {
  "kernelspec": {
   "display_name": "Python 3 (ipykernel)",
   "language": "python",
   "name": "python3"
  },
  "language_info": {
   "codemirror_mode": {
    "name": "ipython",
    "version": 3
   },
   "file_extension": ".py",
   "mimetype": "text/x-python",
   "name": "python",
   "nbconvert_exporter": "python",
   "pygments_lexer": "ipython3",
   "version": "3.11.3"
  }
 },
 "nbformat": 4,
 "nbformat_minor": 5
}
